{
  "nbformat": 4,
  "nbformat_minor": 0,
  "metadata": {
    "colab": {
      "name": "Learn-PySpark",
      "provenance": [],
      "collapsed_sections": [],
      "authorship_tag": "ABX9TyNcGioIAEEOt8M5Zp0gxi8/",
      "include_colab_link": true
    },
    "kernelspec": {
      "name": "python3",
      "display_name": "Python 3"
    }
  },
  "cells": [
    {
      "cell_type": "markdown",
      "metadata": {
        "id": "view-in-github",
        "colab_type": "text"
      },
      "source": [
        "<a href=\"https://colab.research.google.com/github/pratikgujral/AutoRCCar/blob/master/Learn_PySpark.ipynb\" target=\"_parent\"><img src=\"https://colab.research.google.com/assets/colab-badge.svg\" alt=\"Open In Colab\"/></a>"
      ]
    },
    {
      "cell_type": "markdown",
      "metadata": {
        "id": "1nWcbtVMyjZd",
        "colab_type": "text"
      },
      "source": [
        "In this notebook, we'll learn how to use Spark using Python!\n",
        "\n",
        "# Prerequisites\n",
        "- Familiarity with Python\n"
      ]
    },
    {
      "cell_type": "markdown",
      "metadata": {
        "id": "e2Cy_rTMzqbs",
        "colab_type": "text"
      },
      "source": [
        "# Introduction\n",
        "![Spark logo](https://spark.apache.org/docs/latest/api/python/_static/spark-logo-hd.png)\n",
        "\n",
        "Spark is a tool for doing parallel computation with large datasets. Spark integrates with Python very well. PySpark is the Python package that makes the magic happen. You'll use this package to work with data about flights from Portland and Seattle. You'll learn to wrangle this data and build a whole machine learning pipeline to predict whether or not flights will be delayed. Get ready to put some Spark in your Python code and dive into the world of high-performance machine learning!"
      ]
    },
    {
      "cell_type": "markdown",
      "metadata": {
        "id": "LrfJEeqQz6He",
        "colab_type": "text"
      },
      "source": [
        "# Part 1: Getting to know PySpark\n",
        "In this part, we'll learn how Spark manages data and how can you read and write tables from Python."
      ]
    },
    {
      "cell_type": "markdown",
      "metadata": {
        "id": "8ofXzNpG1PKo",
        "colab_type": "text"
      },
      "source": [
        "## What is Spark?\n",
        "Spark is a platform for **cluster computing**. Spark lets you spread data and computations over clusters with multiple nodes (think of each node as a separate computer). Splitting up your data makes it easier to work with very large datasets because each node only works with a small amount of data.\n",
        "\n",
        "![Cluster Computing](https://i.pinimg.com/originals/bf/c4/17/bfc4173a6e383fb815935fad9a8d9c11.png)\n",
        "\n",
        "As each node works on its own subset of the total data, it also carries out a part of the total calculations required, so that both data processing and computation are performed in parallel over the nodes in the cluster. It is a fact that parallel computation can make certain types of programming tasks much faster.\n",
        "\n",
        "However, with greater computing power comes greater complexity.\n",
        "\n",
        "Deciding whether or not Spark is the best solution for your problem takes some experience, but you can consider questions like:\n",
        " - Is my data too big to work with on a single machine?\n",
        " - Can my calculations be easily parallelized?"
      ]
    },
    {
      "cell_type": "markdown",
      "metadata": {
        "id": "Q9tdzZ1y3WhO",
        "colab_type": "text"
      },
      "source": [
        "## Using Spark in Python\n",
        "The first step in using Spark is connecting to a cluster.\n",
        "\n",
        "In practice, the cluster will be hosted on a remote machine that's connected to all other nodes. There will be one computer, called the master (also sometimes called a **frontend node**) that manages splitting up the data and the computations. The **master** is connected to the rest of the computers in the cluster, which are called **worker**. The master sends the workers data and calculations to run, and they send their results back to the master.\n",
        "\n",
        "When you're just getting started with Spark it's simpler to just run a cluster locally. Thus, for this course, instead of connecting to another computer, all computations will be run on DataCamp's servers in a simulated cluster.\n",
        "\n",
        "Creating the connection is as simple as creating an instance of the `SparkContext` class. The class constructor takes a few optional arguments that allow you to specify the attributes of the cluster you're connecting to.\n",
        "\n",
        "An object holding all these attributes can be created with the `SparkConf()` constructor. Take a look at the documentation for all the details!\n",
        "\n",
        "For the rest of this course you'll have a `SparkContext` called sc already available in your workspace.\n",
        "\n"
      ]
    },
    {
      "cell_type": "markdown",
      "metadata": {
        "id": "3fRfDqNUSEVo",
        "colab_type": "text"
      },
      "source": [
        "## Installing and setting up Spark\n",
        "Run the below code. If the it throws an error, update the link to the Apache Spark dist in the wget and later while setting the environment variables"
      ]
    },
    {
      "cell_type": "code",
      "metadata": {
        "id": "fGsQUJr_R9iC",
        "colab_type": "code",
        "colab": {}
      },
      "source": [
        "!apt-get install openjdk-8-jdk-headless -qq > /dev/null\n",
        "!wget -q http://apache.org/dist/spark/spark-2.4.4/spark-2.4.4-bin-hadoop2.7.tgz\n",
        "!tar xf spark-2.4.4-bin-hadoop2.7.tgz\n",
        "!pip install -q findspark"
      ],
      "execution_count": 0,
      "outputs": []
    },
    {
      "cell_type": "markdown",
      "metadata": {
        "id": "Z42Ym6IZSwXm",
        "colab_type": "text"
      },
      "source": [
        "Now that we have installed Spark and Java in Colab, it is time to set the environment path that enables us to run PySpark in our Colab environment. Set the location of Java and Spark by running the following code:"
      ]
    },
    {
      "cell_type": "code",
      "metadata": {
        "id": "jMzfvK_VSyq4",
        "colab_type": "code",
        "colab": {}
      },
      "source": [
        "import os\n",
        "os.environ[\"JAVA_HOME\"] = \"/usr/lib/jvm/java-8-openjdk-amd64\"\n",
        "os.environ[\"SPARK_HOME\"] = \"/content/spark-2.4.4-bin-hadoop2.7\""
      ],
      "execution_count": 0,
      "outputs": []
    },
    {
      "cell_type": "markdown",
      "metadata": {
        "id": "cuwsw8BXS50g",
        "colab_type": "text"
      },
      "source": [
        "Running a local Spark Session"
      ]
    },
    {
      "cell_type": "code",
      "metadata": {
        "id": "G8_0o_zaS6GV",
        "colab_type": "code",
        "colab": {}
      },
      "source": [
        "import findspark\n",
        "findspark.init()\n",
        "from pyspark.sql import SparkSession\n",
        "spark = SparkSession.builder.master(\"local[*]\").getOrCreate()"
      ],
      "execution_count": 0,
      "outputs": []
    },
    {
      "cell_type": "markdown",
      "metadata": {
        "id": "AX81mry_zumD",
        "colab_type": "text"
      },
      "source": [
        "## Reading the datasets"
      ]
    },
    {
      "cell_type": "code",
      "metadata": {
        "id": "3CJz2NmYx4Ns",
        "colab_type": "code",
        "colab": {}
      },
      "source": [
        "url_airports_dataset = r\"https://assets.datacamp.com/production/repositories/1237/datasets/6e5c4ac2a4799338ba7e13d54ce1fa918da644ba/airports.csv\"\n",
        "url_flights_dataset = r\"https://assets.datacamp.com/production/repositories/1237/datasets/fa47bb54e83abd422831cbd4f441bd30fd18bd15/flights_small.csv\"\n",
        "url_planes_datasets = r\"https://assets.datacamp.com/production/repositories/1237/datasets/231480a2696c55fde829ce76d936596123f12c0c/planes.csv\""
      ],
      "execution_count": 0,
      "outputs": []
    },
    {
      "cell_type": "code",
      "metadata": {
        "id": "PWr4zCTyyZgg",
        "colab_type": "code",
        "colab": {}
      },
      "source": [
        ""
      ],
      "execution_count": 0,
      "outputs": []
    },
    {
      "cell_type": "markdown",
      "metadata": {
        "id": "Z_Y4L6uV_WGL",
        "colab_type": "text"
      },
      "source": [
        "## Getting to know `SparkContext`"
      ]
    },
    {
      "cell_type": "code",
      "metadata": {
        "id": "PHV_sW-2_Z3Z",
        "colab_type": "code",
        "colab": {}
      },
      "source": [
        "from pyspark import SparkContext\n",
        "sc = SparkContext()\n",
        "\n",
        "# Verify SparkContext\n",
        "print(sc)\n",
        "\n",
        "# Print Spark version\n",
        "print(sc.version)"
      ],
      "execution_count": 0,
      "outputs": []
    },
    {
      "cell_type": "markdown",
      "metadata": {
        "id": "bNn5MSMQAdNo",
        "colab_type": "text"
      },
      "source": [
        "## Using DataFrames\n",
        "Spark's core data structure is the **Resilient Distributed Dataset (RDD)**. This is a low level object that lets Spark work its magic by splitting data across multiple nodes in the cluster. However, RDDs are hard to work with directly, so in this notebook we'll be using the Spark DataFrame abstraction built on top of RDDs.\n",
        "\n",
        "The Spark DataFrame was designed to behave a lot like a SQL table (a table with variables in the columns and observations in the rows). Not only are they easier to understand, DataFrames are also more optimized for complicated operations than RDDs.\n",
        "\n",
        "When you start modifying and combining columns and rows of data, there are many ways to arrive at the same result, but some often take much longer than others. When using RDDs, it's up to the data scientist to figure out the right way to optimize the query, but the DataFrame implementation has much of this optimization built in!\n",
        "\n",
        "To start working with Spark DataFrames, you first have to create a `SparkSession` object from your `SparkContext`. You can think of the `SparkContext` as your connection to the cluster and the `SparkSession` as your interface with that connection.\n",
        "\n",
        "Remember, for the rest of the notebook, we'll have a `SparkSession` called `spark` available in our workspace!"
      ]
    },
    {
      "cell_type": "markdown",
      "metadata": {
        "id": "i9Hg21g9B9Uy",
        "colab_type": "text"
      },
      "source": [
        "## Creating a SparkSession\n",
        "We'll have a `SparkSession` called `spark`, but what if you're not sure there already is one? Creating multiple SparkSessions and SparkContexts can cause issues, so it's best practice to use the `SparkSession.builder.getOrCreate()` method. This returns an existing `SparkSession` if there's already one in the environment, or creates a new one if necessary!"
      ]
    },
    {
      "cell_type": "code",
      "metadata": {
        "id": "DZis7n7UAcmM",
        "colab_type": "code",
        "colab": {}
      },
      "source": [
        "from pyspark.sql import SparkSession\n",
        "\n",
        "# Creating a new PySpark Session\n",
        "my_spark = SparkSession.builder.getOrCreate()\n",
        "print(my_spark)"
      ],
      "execution_count": 0,
      "outputs": []
    },
    {
      "cell_type": "markdown",
      "metadata": {
        "id": "fruT1PGu_aWW",
        "colab_type": "text"
      },
      "source": [
        "---"
      ]
    },
    {
      "cell_type": "markdown",
      "metadata": {
        "id": "U3C9vVDgC8zo",
        "colab_type": "text"
      },
      "source": [
        "## Viewing Tables\n",
        "Now that we have created a `SparkSession`, we can start poking around to see what data is in our cluster!\n",
        "\n",
        "Our `SparkSession` has an attribute called `catalog` which lists all the data inside the cluster. This attribute has a few methods for extracting different pieces of information.\n",
        "\n",
        "One of the most useful is the `.listTables()` method, which returns the names of all the tables in your cluster as a list."
      ]
    },
    {
      "cell_type": "code",
      "metadata": {
        "id": "1XSRC6WbDYTe",
        "colab_type": "code",
        "colab": {}
      },
      "source": [
        "print(spark.catalog.listTables()) # Output -> [Table(name='flights', database=None, description=None, tableType='TEMPORARY', isTemporary=True)]"
      ],
      "execution_count": 0,
      "outputs": []
    },
    {
      "cell_type": "markdown",
      "metadata": {
        "id": "2PHy3nH3-ZQ-",
        "colab_type": "text"
      },
      "source": [
        "### Are you query-ious?\n",
        "One of the advantages of the DataFrame interface is that you can run SQL queries on the tables in your Spark cluster.\n",
        "\n",
        "As you saw in the last exercise, one of the tables in your cluster is the `flights` table. This table contains a row for every flight that left Portland International Airport (PDX) or Seattle-Tacoma International Airport (SEA) in 2014 and 2015.\n",
        "\n",
        "Running a query on this table is as easy as using the `.sql()` method on your `SparkSession`. This method takes a string containing the query and returns a DataFrame with the results!\n",
        "\n",
        "If you look closely, you'll notice that the table `flights` is only mentioned in the query, not as an argument to any of the methods. This is because there isn't a local object in your environment that holds that data, so it wouldn't make sense to pass the table as an argument.\n",
        "\n",
        "Before that, we'll create a `SparkSession` called `spark`."
      ]
    },
    {
      "cell_type": "code",
      "metadata": {
        "id": "klco-mvQ_rrO",
        "colab_type": "code",
        "colab": {}
      },
      "source": [
        "from pyspark.sql import SparkSession\n",
        "\n",
        "spark = SparkSession.builder.getOrCreate()\n",
        "\n",
        "# Writing the query to fetch first 10 rows of flights\n",
        "query = 'FROM flights SELECT * LIMIT 10'\n",
        "\n",
        "# Executing the query using the .sql() method of SparkSession\n",
        "flights10 = spark.sql(query)\n",
        "\n",
        "# Using the DataFrame method .show() to print flights10\n",
        "flights10.show()"
      ],
      "execution_count": 0,
      "outputs": []
    },
    {
      "cell_type": "markdown",
      "metadata": {
        "id": "563BqvcMBT-G",
        "colab_type": "text"
      },
      "source": [
        "\n",
        "\n",
        "---\n"
      ]
    },
    {
      "cell_type": "markdown",
      "metadata": {
        "id": "bR0OtZ5NBW6r",
        "colab_type": "text"
      },
      "source": [
        "### Panda-fying a Spark DataFrame\n",
        "\n",
        "Suppose you've run a query on your huge dataset and aggregated it down to something a little more manageable.\n",
        "\n",
        "Sometimes it makes sense to then take that table and work with it locally using a tool like `pandas`. Spark DataFrames make that easy with the `.toPandas()` method. Calling this method on a Spark DataFrame returns the corresponding `pandas` DataFrame. It's as simple as that!\n",
        "\n",
        "This time the query counts the number of flights to each airport from SEA and PDX.\n",
        "\n",
        "Ofcourse, we shall first create a `SparkSession` called `spark` in our workspace!"
      ]
    },
    {
      "cell_type": "code",
      "metadata": {
        "id": "7qrur4UrB1rN",
        "colab_type": "code",
        "colab": {}
      },
      "source": [
        "from pyspark.sql import SparkSession\n",
        "\n",
        "spark = SparkSession.builder.getOrCreate()\n",
        "\n",
        "query = 'SELECT origin, dest, COUNT(*) AS N FROM flights GROUP BY origin, dest'\n",
        "\n",
        "# Running the query\n",
        "flight_counts = spark.sql(query)\n",
        "\n",
        "# Conerting the resulting table into a Pandas DataFrame\n",
        "pd_counts = flight_counts.toPandas()\n",
        "\n",
        "# Print the head of pd_counts\n",
        "print(pd_counts.head())\n",
        "\n",
        "\"\"\"\n",
        "OUTPUT\n",
        "  origin dest    N\n",
        "    0    SEA  RNO    8\n",
        "    1    SEA  DTW   98\n",
        "    2    SEA  CLE    2\n",
        "    3    SEA  LAX  450\n",
        "    4    PDX  SEA  144\n",
        "\"\"\""
      ],
      "execution_count": 0,
      "outputs": []
    },
    {
      "cell_type": "markdown",
      "metadata": {
        "id": "CB1w281IGRw0",
        "colab_type": "text"
      },
      "source": [
        "---"
      ]
    },
    {
      "cell_type": "markdown",
      "metadata": {
        "id": "NAY-5OhsGTaC",
        "colab_type": "text"
      },
      "source": [
        "### Put some Spark in your data\n",
        "In the last exercise, you saw how to move data from `Spark` to `pandas`. However, maybe you want to go the other direction, and put a `pandas` DataFrame into a Spark cluster! The `SparkSession` class has a method for this as well.\n",
        "\n",
        "The `.createDataFrame()` method takes a `pandas` DataFrame and returns a Spark DataFrame.\n",
        "\n",
        "The output of this method is stored locally, not in the `SparkSession` `catalog`. This means that you can use all the Spark DataFrame methods on it, but you can't access the data in other contexts.\n",
        "\n",
        "For example, a SQL query (using the `.sql()` method) that references your DataFrame will throw an error. To access the data in this way, you have to save it as a temporary table.\n",
        "\n",
        "You can do this using the `.createTempView()` Spark DataFrame method, which takes as its only argument the name of the temporary table you'd like to register. This method registers the DataFrame as a table in the catalog, but as this table is temporary, it can only be accessed from the specific `SparkSession` used to create the Spark DataFrame.\n",
        "\n",
        "There is also the method `.createOrReplaceTempView()`. This safely creates a new temporary table if nothing was there before, or updates an existing table if one was already defined. You'll use this method to avoid running into problems with duplicate tables.\n",
        "\n",
        "Check out the diagram to see all the different ways your Spark data structures interact with each other.\n",
        "\n",
        "![alt](https://s3.amazonaws.com/assets.datacamp.com/production/course_4452/datasets/spark_figure.png)"
      ]
    },
    {
      "cell_type": "code",
      "metadata": {
        "id": "_3fslT5YJQu0",
        "colab_type": "code",
        "colab": {}
      },
      "source": [
        "from pyspark.sql import SparkSession\n",
        "import numpy as np\n",
        "import pandas as pd\n",
        "\n",
        "spark = SparkSession.builder.getOrCreate()\n",
        "\n",
        "# Creating a temmporary pandas DataFrame\n",
        "pd_temp = pd.DataFrame(np.random.random(10))\n",
        "\n",
        "# Creating a Spark DataFrame called spark_temp by calling the .createDataFrame() method with pd_temp as the argument\n",
        "spark_temp = spark.createDataFrame(pd_temp)\n",
        "\n",
        "# Examing the tables in the catalog\n",
        "print(spark.catalog.listTables()) # OUTPUT -> # [Table(name='flights', database=None, description=None, tableType='TEMPORARY', isTemporary=True)]\n",
        "# Note that it DOES NOT have the newly created spark_temp table as this is only created locally and not in the spark catalog\n",
        "\n",
        "# Registering spark_temp as a temporary table names 'temp' using the createOrReplaceTempView() method. The name of the table is set by passing the desired name as an argument to the method\n",
        "spark_temp.createOrReplaceTempView('temp')\n",
        "\n",
        "# Examining the list of tables once again. This time, it will list our newly created temp DataFrame as a table\n",
        "print(spark.catalog.listTables()) \n",
        "# OUTPUT-> [Table(name='flights', database=None, description=None, tableType='TEMPORARY', isTemporary=True), Table(name='temp', database=None, description=None, tableType='TEMPORARY', isTemporary=True)]"
      ],
      "execution_count": 0,
      "outputs": []
    },
    {
      "cell_type": "markdown",
      "metadata": {
        "id": "ZsZYtRssNur2",
        "colab_type": "text"
      },
      "source": [
        "---\n"
      ]
    },
    {
      "cell_type": "markdown",
      "metadata": {
        "id": "2lOAibbQNzcw",
        "colab_type": "text"
      },
      "source": [
        "### Dropping the middle man\n",
        "Now you know how to put data into Spark via `pandas`, but you're probably wondering why deal with `pandas` at all? Wouldn't it be easier to just read a text file straight into Spark? Of course it would!\n",
        "\n",
        "Luckily, your `SparkSession` has a `.read` attribute which has several methods for reading different data sources into Spark DataFrames. Using these you can create a DataFrame from a .csv file just like with regular pandas DataFrames!\n",
        "\n",
        "The variable `file_path` is a string with the path to the file `airports.csv`. This file contains information about different airports all over the world."
      ]
    },
    {
      "cell_type": "code",
      "metadata": {
        "id": "8MLEJuLtQaXj",
        "colab_type": "code",
        "outputId": "7f98a8f7-0e3f-492a-d4d8-97eef4f84890",
        "colab": {
          "base_uri": "https://localhost:8080/",
          "height": 204
        }
      },
      "source": [
        "!wget \"https://assets.datacamp.com/production/repositories/1237/datasets/6e5c4ac2a4799338ba7e13d54ce1fa918da644ba/airports.csv\" -O ../tmp/airports.csv"
      ],
      "execution_count": 0,
      "outputs": [
        {
          "output_type": "stream",
          "text": [
            "--2020-02-02 09:53:31--  https://assets.datacamp.com/production/repositories/1237/datasets/6e5c4ac2a4799338ba7e13d54ce1fa918da644ba/airports.csv\n",
            "Resolving assets.datacamp.com (assets.datacamp.com)... 52.85.77.45, 52.85.77.63, 52.85.77.62, ...\n",
            "Connecting to assets.datacamp.com (assets.datacamp.com)|52.85.77.45|:443... connected.\n",
            "HTTP request sent, awaiting response... 200 OK\n",
            "Length: 84548 (83K)\n",
            "Saving to: ‘../tmp/airports.csv’\n",
            "\n",
            "\r../tmp/airports.csv   0%[                    ]       0  --.-KB/s               \r../tmp/airports.csv 100%[===================>]  82.57K  --.-KB/s    in 0.02s   \n",
            "\n",
            "2020-02-02 09:53:31 (4.96 MB/s) - ‘../tmp/airports.csv’ saved [84548/84548]\n",
            "\n"
          ],
          "name": "stdout"
        }
      ]
    },
    {
      "cell_type": "code",
      "metadata": {
        "id": "-tBV9l32QBo4",
        "colab_type": "code",
        "outputId": "1d8c1e2d-0d55-4c22-f22b-139530705a23",
        "colab": {
          "base_uri": "https://localhost:8080/",
          "height": 476
        }
      },
      "source": [
        "spark = SparkSession.builder.getOrCreate()\n",
        "\n",
        "file_path = '../tmp/airports.csv'\n",
        "\n",
        "# Reading the CSV file into a Spark DataFrame\n",
        "airports = spark.read.csv(file_path, header=True)\n",
        "print(type(airports)) # Note the Datatype is <class 'pyspark.sql.dataframe.DataFrame'>\n",
        "\n",
        "# Show the data\n",
        "airports.show()"
      ],
      "execution_count": 0,
      "outputs": [
        {
          "output_type": "stream",
          "text": [
            "<class 'pyspark.sql.dataframe.DataFrame'>\n",
            "+---+--------------------+----------------+-----------------+----+---+---+\n",
            "|faa|                name|             lat|              lon| alt| tz|dst|\n",
            "+---+--------------------+----------------+-----------------+----+---+---+\n",
            "|04G|   Lansdowne Airport|      41.1304722|      -80.6195833|1044| -5|  A|\n",
            "|06A|Moton Field Munic...|      32.4605722|      -85.6800278| 264| -5|  A|\n",
            "|06C| Schaumburg Regional|      41.9893408|      -88.1012428| 801| -6|  A|\n",
            "|06N|     Randall Airport|       41.431912|      -74.3915611| 523| -5|  A|\n",
            "|09J|Jekyll Island Air...|      31.0744722|      -81.4277778|  11| -4|  A|\n",
            "|0A9|Elizabethton Muni...|      36.3712222|      -82.1734167|1593| -4|  A|\n",
            "|0G6|Williams County A...|      41.4673056|      -84.5067778| 730| -5|  A|\n",
            "|0G7|Finger Lakes Regi...|      42.8835647|      -76.7812318| 492| -5|  A|\n",
            "|0P2|Shoestring Aviati...|      39.7948244|      -76.6471914|1000| -5|  U|\n",
            "|0S9|Jefferson County ...|      48.0538086|     -122.8106436| 108| -8|  A|\n",
            "|0W3|Harford County Ai...|      39.5668378|      -76.2024028| 409| -5|  A|\n",
            "|10C|  Galt Field Airport|      42.4028889|      -88.3751111| 875| -6|  U|\n",
            "|17G|Port Bucyrus-Craw...|      40.7815556|      -82.9748056|1003| -5|  A|\n",
            "|19A|Jackson County Ai...|      34.1758638|      -83.5615972| 951| -4|  U|\n",
            "|1A3|Martin Campbell F...|      35.0158056|      -84.3468333|1789| -4|  A|\n",
            "|1B9| Mansfield Municipal|      42.0001331|      -71.1967714| 122| -5|  A|\n",
            "|1C9|Frazier Lake Airpark|54.0133333333333|-124.768333333333| 152| -8|  A|\n",
            "|1CS|Clow Internationa...|      41.6959744|      -88.1292306| 670| -6|  U|\n",
            "|1G3|  Kent State Airport|      41.1513889|      -81.4151111|1134| -4|  A|\n",
            "|1OH|     Fortman Airport|      40.5553253|      -84.3866186| 885| -5|  U|\n",
            "+---+--------------------+----------------+-----------------+----+---+---+\n",
            "only showing top 20 rows\n",
            "\n"
          ],
          "name": "stdout"
        }
      ]
    },
    {
      "cell_type": "markdown",
      "metadata": {
        "id": "ya1Ojkc2UxT_",
        "colab_type": "text"
      },
      "source": [
        "\n",
        "\n",
        "---\n",
        "\n",
        "\n",
        "\n",
        "---\n",
        "\n"
      ]
    },
    {
      "cell_type": "markdown",
      "metadata": {
        "id": "dptCqiwl0fEi",
        "colab_type": "text"
      },
      "source": [
        "# Part 2: Manipulating data\n",
        "In this chapter, we'll learn about the pyspark.sql module, which provides optimized data queries to our Spark session."
      ]
    },
    {
      "cell_type": "markdown",
      "metadata": {
        "id": "9i06WeTWXDMn",
        "colab_type": "text"
      },
      "source": [
        "## Creating columns\n",
        "In this chapter, you'll learn how to use the methods defined by Spark's DataFrame class to perform common data operations.\n",
        "\n",
        "Let's look at performing column-wise operations. In Spark you can do this using the `.withColumn()` method, which takes two arguments. First, a string with the name of your new column, and second the new column itself.\n",
        "\n",
        "The new column must be an object of class `Column`. Creating one of these is as easy as extracting a column from your DataFrame using `df.colName`.\n",
        "\n",
        "Updating a Spark DataFrame is somewhat different than working in `pandas` because the Spark DataFrame is immutable. This means that it can't be changed, and so columns can't be updated in place.\n",
        "\n",
        "Thus, all these methods return a **new** DataFrame. To overwrite the original DataFrame you must reassign the returned DataFrame using the method like so:\n",
        "\n",
        "\n",
        "\n",
        "> `df = df.withColumn(\"newCol\", df.oldCol + 1)`\n",
        "\n",
        "\n",
        "The above code creates a DataFrame with the same columns as df plus a new column, `newCol`, where every entry is equal to the corresponding entry from `oldCol`, plus one.\n",
        "\n",
        "To overwrite an existing column, just pass the name of that particular column as the first argument!"
      ]
    },
    {
      "cell_type": "code",
      "metadata": {
        "id": "3YHUhZxj0r-t",
        "colab_type": "code",
        "colab": {}
      },
      "source": [
        "from pyspark.sql import SparkSession\n",
        "spark = SparkSession.getOrCreate()\n",
        "\n",
        "# Use the spark.table() method with the argument \"flights\" to create a DataFrame containing the values of the flights table in the .catalog. Save it as flights\n",
        "flights = spark.table('flights')\n",
        "\n",
        "# Show the head using .show() method. The column air_time contains the duration of the flight in minutes.\n",
        "flights.show()\n",
        "\n",
        "# Updating flights to contain a new column duration_hrs, that contains the duration of each flight in hours.\n",
        "flights = flights.withColumn('duration_hrs', flights.air_time / 60)"
      ],
      "execution_count": 0,
      "outputs": []
    },
    {
      "cell_type": "markdown",
      "metadata": {
        "id": "fyytGL7Whq0V",
        "colab_type": "text"
      },
      "source": [
        "---"
      ]
    },
    {
      "cell_type": "markdown",
      "metadata": {
        "id": "3ZfLnVjFhrt0",
        "colab_type": "text"
      },
      "source": [
        "### Filtering Data\n",
        "Now that you have a bit of SQL know-how under your belt, it's easier to talk about the analogous operations using Spark DataFrames.\n",
        "\n",
        "Let's take a look at the `.filter()` method. As you might suspect, this is the Spark counterpart of SQL's WHERE clause. The `.filter()` method takes either an expression that would follow the WHERE clause of a SQL expression as a string, or a Spark Column of boolean (True/False) values.\n",
        "\n",
        "For example, the following two expressions will produce the same output:\n",
        "\n",
        "> `flights.filter(\"air_time > 120\").show()`\n",
        "\n",
        "> `flights.filter(flights.air_time > 120).show()`\n",
        "\n",
        "Notice that in the first case, we pass a string to `.filter()`. In SQL, we would write this filtering task as `SELECT * FROM flights WHERE air_time > 120`. Spark's `.filter()` can accept any expression that could go in the WHERE clause of a SQL query (in this case, `\"air_time > 120\"`), as long as it is passed as a string. Notice that in this case, we do not reference the name of the table in the string -- as we wouldn't in the SQL request.\n",
        "\n",
        "In the second case, we actually pass a **column of boolean values** to `.filter()`. Remember that `flights.air_time > 120` returns a column of boolean values that has True in place of those records in `flights.air_time` that are over 120, and False otherwise.\n",
        "\n",
        "Remember, a SparkSession called spark is already in your workspace, along with the Spark DataFrame flights."
      ]
    },
    {
      "cell_type": "code",
      "metadata": {
        "id": "iH93owQUkFQ4",
        "colab_type": "code",
        "colab": {}
      },
      "source": [
        "# Filter flights by passing a string to filter() method to find all flights that flew over 1000 miles distance.\n",
        "long_flights1 = flights.filter('distance > 1000')\n",
        "\n",
        "# Filter flights by passing a column of boolean values\n",
        "long_flights2 = flights.filter(flights.distance > 1000)\n",
        "\n",
        "# Print the data to check they're equal\n",
        "long_flights1.show()\n",
        "long_flights2.show()"
      ],
      "execution_count": 0,
      "outputs": []
    },
    {
      "cell_type": "markdown",
      "metadata": {
        "id": "AN2xV2lIlXE3",
        "colab_type": "text"
      },
      "source": [
        "---"
      ]
    },
    {
      "cell_type": "markdown",
      "metadata": {
        "id": "yQnYeMLvlX7l",
        "colab_type": "text"
      },
      "source": [
        "### Selecting\n",
        "The Spark variant of SQL's `SELECT` is the `.select()` method. This method takes multiple arguments - one for each column you want to select. These arguments can either be the column name as a string (one for each column) or a column object (using the `df.colName` syntax). When you pass a column object, you can perform operations like addition or subtraction on the column to change the data contained in it, much like inside `.withColumn()`.\n",
        "\n",
        "#### Difference between `.select()` and `.withColumn()`\n",
        "The difference between `.select()` and `.withColumn()` methods is that `.select()` returns only the columns you specify, while `.withColumn()` returns all the columns of the DataFrame in addition to the one you defined. It's often a good idea to drop columns you don't need at the beginning of an operation so that you're not dragging around extra data as you're wrangling. In this case, you would use `.select()` and not `.withColumn()`.\n"
      ]
    },
    {
      "cell_type": "code",
      "metadata": {
        "id": "AsNAoH7vmGTe",
        "colab_type": "code",
        "colab": {}
      },
      "source": [
        "# BY STRINGS: Selecting the columns tailnum, origin, and dest from flights by passing the column names as strings.\n",
        "selected1 = flights.select('tailnum', 'origin', 'dest')\n",
        "\n",
        "# BY BOOLEAN MASK: Selecting the columns origin, dest, and carrier using the df.colName\n",
        "temp = flights.select(flights.origin, flights.dest, flights.carrier)\n",
        "\n",
        "# Definiing boolean filters and filtering data based on these filters\n",
        "filterA = flights.origin == \"SEA\"\n",
        "filterB = flight.dest == \"PDX\"\n",
        "selected2  = flights.filter(filterA).filter(filterB)"
      ],
      "execution_count": 0,
      "outputs": []
    },
    {
      "cell_type": "markdown",
      "metadata": {
        "id": "98C51OVg0tVl",
        "colab_type": "text"
      },
      "source": [
        "# Part 3: Getting started with machine learning pipelines\n",
        "PySpark has built-in, cutting-edge machine learning routines, along with utilities to create full machine learning pipelines. We'll learn about them in this part."
      ]
    },
    {
      "cell_type": "code",
      "metadata": {
        "id": "8lDXTVzD08mU",
        "colab_type": "code",
        "colab": {}
      },
      "source": [
        ""
      ],
      "execution_count": 0,
      "outputs": []
    },
    {
      "cell_type": "markdown",
      "metadata": {
        "id": "c7e8LKdg09Tn",
        "colab_type": "text"
      },
      "source": [
        "# Part 4: Model tuning and selection\n",
        "In this last part, we'll apply what you've learned to create a model that predicts which flights will be delayed."
      ]
    },
    {
      "cell_type": "code",
      "metadata": {
        "id": "1DhJuHOl1JUn",
        "colab_type": "code",
        "colab": {}
      },
      "source": [
        ""
      ],
      "execution_count": 0,
      "outputs": []
    }
  ]
}